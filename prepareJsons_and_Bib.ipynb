{
 "cells": [
  {
   "attachments": {},
   "cell_type": "markdown",
   "metadata": {},
   "source": [
    "# Sorting the conferences via \"date\" field"
   ]
  },
  {
   "cell_type": "code",
   "execution_count": 5,
   "metadata": {},
   "outputs": [],
   "source": [
    "import datetime,json\n",
    "import pandas as pd"
   ]
  },
  {
   "attachments": {},
   "cell_type": "markdown",
   "metadata": {},
   "source": [
    "## Sorting with pandas"
   ]
  },
  {
   "cell_type": "code",
   "execution_count": 10,
   "metadata": {},
   "outputs": [
    {
     "data": {
      "text/html": [
       "<div>\n",
       "<style scoped>\n",
       "    .dataframe tbody tr th:only-of-type {\n",
       "        vertical-align: middle;\n",
       "    }\n",
       "\n",
       "    .dataframe tbody tr th {\n",
       "        vertical-align: top;\n",
       "    }\n",
       "\n",
       "    .dataframe thead th {\n",
       "        text-align: right;\n",
       "    }\n",
       "</style>\n",
       "<table border=\"1\" class=\"dataframe\">\n",
       "  <thead>\n",
       "    <tr style=\"text-align: right;\">\n",
       "      <th></th>\n",
       "      <th>title</th>\n",
       "      <th>location</th>\n",
       "      <th>date</th>\n",
       "      <th>url</th>\n",
       "    </tr>\n",
       "  </thead>\n",
       "  <tbody>\n",
       "    <tr>\n",
       "      <th>1</th>\n",
       "      <td>HEP Software Training with HSF/IRIS-HEP</td>\n",
       "      <td>New Perspectives Meeting (Fermilab, Batavia, I...</td>\n",
       "      <td>2023-06-27</td>\n",
       "      <td>https://indico.fnal.gov/event/59506/contributi...</td>\n",
       "    </tr>\n",
       "    <tr>\n",
       "      <th>2</th>\n",
       "      <td>Trigger Development for Emerging Jet Analysis ...</td>\n",
       "      <td>FNAL 56st Annual Users Meeting (Fermilab, Bata...</td>\n",
       "      <td>2023-06-28</td>\n",
       "      <td>https://indico.fnal.gov/event/59656/contributi...</td>\n",
       "    </tr>\n",
       "    <tr>\n",
       "      <th>3</th>\n",
       "      <td>Teaching Python the Sustainable Way: Lessons L...</td>\n",
       "      <td>PyHEP 2022 Workshop (Virtual)</td>\n",
       "      <td>2022-09-12</td>\n",
       "      <td>https://indico.cern.ch/event/1150631/contribut...</td>\n",
       "    </tr>\n",
       "    <tr>\n",
       "      <th>4</th>\n",
       "      <td>PyROOT tutorial experience from SWC Workshop</td>\n",
       "      <td>12th ROOT Users' Workshop (Virtual)</td>\n",
       "      <td>2022-05-10</td>\n",
       "      <td>https://indico.fnal.gov/event/23628/contributi...</td>\n",
       "    </tr>\n",
       "    <tr>\n",
       "      <th>5</th>\n",
       "      <td>New Trigger Studies for Emerging Jets at CMS E...</td>\n",
       "      <td>PRIMS/JTM Conference (Humacao, Puerto Rico)</td>\n",
       "      <td>2022-04-09</td>\n",
       "      <td>/assets/pdfs/PRISM_BetterPoster_EMJ.pdf</td>\n",
       "    </tr>\n",
       "    <tr>\n",
       "      <th>6</th>\n",
       "      <td>Recent Progress in ML for Tracker DQM</td>\n",
       "      <td>DPF Conference (Virtual)</td>\n",
       "      <td>2021-07-12</td>\n",
       "      <td>https://indico.cern.ch/event/1034469/contribut...</td>\n",
       "    </tr>\n",
       "    <tr>\n",
       "      <th>7</th>\n",
       "      <td>Machine Learning in DQM at CMS Experiment</td>\n",
       "      <td>Physcon Conference (Rhode Island, USA)</td>\n",
       "      <td>2019-11-13</td>\n",
       "      <td>/assets/pdfs/Physcon_Poster.pdf</td>\n",
       "    </tr>\n",
       "    <tr>\n",
       "      <th>8</th>\n",
       "      <td>Machine Learning and Deep Neural Networks at C...</td>\n",
       "      <td>Physics symposium (University of Puerto Rico M...</td>\n",
       "      <td>2019-05-24</td>\n",
       "      <td>http://charma.uprm.edu/~malik/Undergrad_Summer...</td>\n",
       "    </tr>\n",
       "    <tr>\n",
       "      <th>9</th>\n",
       "      <td>Machine Learning in DQM at CMS Experiment</td>\n",
       "      <td>PRISM/JTM Conference (Mayagüez, Puerto Rico)</td>\n",
       "      <td>2019-05-04</td>\n",
       "      <td>/assets/pdfs/ML4DQM_PRISM_2019_Talk.pdf</td>\n",
       "    </tr>\n",
       "    <tr>\n",
       "      <th>10</th>\n",
       "      <td>Using ML techniques for DQM at CMS</td>\n",
       "      <td>ML Hackathon (University of Puerto Rico Mayagüez)</td>\n",
       "      <td>2019-04-25</td>\n",
       "      <td>https://indico.cern.ch/event/809812/contributi...</td>\n",
       "    </tr>\n",
       "    <tr>\n",
       "      <th>11</th>\n",
       "      <td>Machine Learning in DQM at CMS Experiment</td>\n",
       "      <td>FNAL 51st Annual Users Meeting and New Perspec...</td>\n",
       "      <td>2018-06-18</td>\n",
       "      <td>https://vms.fnal.gov/asset/detail?recid=1955984</td>\n",
       "    </tr>\n",
       "  </tbody>\n",
       "</table>\n",
       "</div>"
      ],
      "text/plain": [
       "                                                title  \\\n",
       "1             HEP Software Training with HSF/IRIS-HEP   \n",
       "2   Trigger Development for Emerging Jet Analysis ...   \n",
       "3   Teaching Python the Sustainable Way: Lessons L...   \n",
       "4        PyROOT tutorial experience from SWC Workshop   \n",
       "5   New Trigger Studies for Emerging Jets at CMS E...   \n",
       "6               Recent Progress in ML for Tracker DQM   \n",
       "7           Machine Learning in DQM at CMS Experiment   \n",
       "8   Machine Learning and Deep Neural Networks at C...   \n",
       "9           Machine Learning in DQM at CMS Experiment   \n",
       "10                 Using ML techniques for DQM at CMS   \n",
       "11          Machine Learning in DQM at CMS Experiment   \n",
       "\n",
       "                                             location       date  \\\n",
       "1   New Perspectives Meeting (Fermilab, Batavia, I... 2023-06-27   \n",
       "2   FNAL 56st Annual Users Meeting (Fermilab, Bata... 2023-06-28   \n",
       "3                       PyHEP 2022 Workshop (Virtual) 2022-09-12   \n",
       "4                 12th ROOT Users' Workshop (Virtual) 2022-05-10   \n",
       "5         PRIMS/JTM Conference (Humacao, Puerto Rico) 2022-04-09   \n",
       "6                            DPF Conference (Virtual) 2021-07-12   \n",
       "7              Physcon Conference (Rhode Island, USA) 2019-11-13   \n",
       "8   Physics symposium (University of Puerto Rico M... 2019-05-24   \n",
       "9        PRISM/JTM Conference (Mayagüez, Puerto Rico) 2019-05-04   \n",
       "10  ML Hackathon (University of Puerto Rico Mayagüez) 2019-04-25   \n",
       "11  FNAL 51st Annual Users Meeting and New Perspec... 2018-06-18   \n",
       "\n",
       "                                                  url  \n",
       "1   https://indico.fnal.gov/event/59506/contributi...  \n",
       "2   https://indico.fnal.gov/event/59656/contributi...  \n",
       "3   https://indico.cern.ch/event/1150631/contribut...  \n",
       "4   https://indico.fnal.gov/event/23628/contributi...  \n",
       "5             /assets/pdfs/PRISM_BetterPoster_EMJ.pdf  \n",
       "6   https://indico.cern.ch/event/1034469/contribut...  \n",
       "7                     /assets/pdfs/Physcon_Poster.pdf  \n",
       "8   http://charma.uprm.edu/~malik/Undergrad_Summer...  \n",
       "9             /assets/pdfs/ML4DQM_PRISM_2019_Talk.pdf  \n",
       "10  https://indico.cern.ch/event/809812/contributi...  \n",
       "11    https://vms.fnal.gov/asset/detail?recid=1955984  "
      ]
     },
     "execution_count": 10,
     "metadata": {},
     "output_type": "execute_result"
    }
   ],
   "source": [
    "confs = pd.read_json(\"_data/Conference.json\")\n",
    "confs.dropna(inplace=True)\n",
    "confs"
   ]
  },
  {
   "cell_type": "code",
   "execution_count": 18,
   "metadata": {},
   "outputs": [],
   "source": [
    "import pprint"
   ]
  },
  {
   "cell_type": "code",
   "execution_count": 19,
   "metadata": {},
   "outputs": [
    {
     "name": "stdout",
     "output_type": "stream",
     "text": [
      "('[{\"title\":\"HEP Software Training with HSF\\\\/IRIS-HEP\",\"location\":\"New '\n",
      " 'Perspectives Meeting (Fermilab, Batavia, IL, '\n",
      " 'USA)\",\"date\":\"2023-06-27T00:00:00.000\",\"url\":\"https:\\\\/\\\\/indico.fnal.gov\\\\/event\\\\/59506\\\\/contributions\\\\/269987\\\\/\"},{\"title\":\"Trigger '\n",
      " 'Development for Emerging Jet Analysis (Poster)\",\"location\":\"FNAL 56st Annual '\n",
      " 'Users Meeting (Fermilab, Batavia, IL, '\n",
      " 'USA)\",\"date\":\"2023-06-28T00:00:00.000\",\"url\":\"https:\\\\/\\\\/indico.fnal.gov\\\\/event\\\\/59656\\\\/contributions\\\\/268969\\\\/\"},{\"title\":\"Teaching '\n",
      " 'Python the Sustainable Way: Lessons Learned at HSF '\n",
      " 'Training\",\"location\":\"PyHEP 2022 Workshop '\n",
      " '(Virtual)\",\"date\":\"2022-09-12T00:00:00.000\",\"url\":\"https:\\\\/\\\\/indico.cern.ch\\\\/event\\\\/1150631\\\\/contributions\\\\/5014278\\\\/\"},{\"title\":\"PyROOT '\n",
      " 'tutorial experience from SWC Workshop\",\"location\":\"12th ROOT Users\\' '\n",
      " 'Workshop '\n",
      " '(Virtual)\",\"date\":\"2022-05-10T00:00:00.000\",\"url\":\"https:\\\\/\\\\/indico.fnal.gov\\\\/event\\\\/23628\\\\/contributions\\\\/240752\\\\/\"},{\"title\":\"New '\n",
      " 'Trigger Studies for Emerging Jets at CMS Experiment\",\"location\":\"PRIMS\\\\/JTM '\n",
      " 'Conference (Humacao, Puerto '\n",
      " 'Rico)\",\"date\":\"2022-04-09T00:00:00.000\",\"url\":\"\\\\/assets\\\\/pdfs\\\\/PRISM_BetterPoster_EMJ.pdf\"},{\"title\":\"Recent '\n",
      " 'Progress in ML for Tracker DQM\",\"location\":\"DPF Conference '\n",
      " '(Virtual)\",\"date\":\"2021-07-12T00:00:00.000\",\"url\":\"https:\\\\/\\\\/indico.cern.ch\\\\/event\\\\/1034469\\\\/contributions\\\\/4434622\\\\/\"},{\"title\":\"Machine '\n",
      " 'Learning in DQM at CMS Experiment\",\"location\":\"Physcon Conference (Rhode '\n",
      " 'Island, '\n",
      " 'USA)\",\"date\":\"2019-11-13T00:00:00.000\",\"url\":\"\\\\/assets\\\\/pdfs\\\\/Physcon_Poster.pdf\"},{\"title\":\"Machine '\n",
      " 'Learning and Deep Neural Networks at CMS Experiment\",\"location\":\"Physics '\n",
      " 'symposium (University of Puerto Rico '\n",
      " 'Mayag\\\\u00fcez)\",\"date\":\"2019-05-24T00:00:00.000\",\"url\":\"http:\\\\/\\\\/charma.uprm.edu\\\\/~malik\\\\/Undergrad_Summer_Symposium\\\\/2019\\\\/GF_2019.pdf\"},{\"title\":\"Machine '\n",
      " 'Learning in DQM at CMS Experiment\",\"location\":\"PRISM\\\\/JTM Conference '\n",
      " '(Mayag\\\\u00fcez, Puerto '\n",
      " 'Rico)\",\"date\":\"2019-05-04T00:00:00.000\",\"url\":\"\\\\/assets\\\\/pdfs\\\\/ML4DQM_PRISM_2019_Talk.pdf\"},{\"title\":\"Using '\n",
      " 'ML techniques for DQM at CMS\",\"location\":\"ML Hackathon (University of Puerto '\n",
      " 'Rico '\n",
      " 'Mayag\\\\u00fcez)\",\"date\":\"2019-04-25T00:00:00.000\",\"url\":\"https:\\\\/\\\\/indico.cern.ch\\\\/event\\\\/809812\\\\/contributions\\\\/3391219\\\\/\"},{\"title\":\"Machine '\n",
      " 'Learning in DQM at CMS Experiment\",\"location\":\"FNAL 51st Annual Users '\n",
      " 'Meeting and New Perspectives Meeting (Fermilab, Batavia, IL, USA) '\n",
      " '\",\"date\":\"2018-06-18T00:00:00.000\",\"url\":\"https:\\\\/\\\\/vms.fnal.gov\\\\/asset\\\\/detail?recid=1955984\"}]')\n"
     ]
    }
   ],
   "source": [
    "pprint.pprint(confs.to_json(orient='records',date_format=\"iso\",))"
   ]
  },
  {
   "cell_type": "code",
   "execution_count": 115,
   "metadata": {},
   "outputs": [],
   "source": [
    "result = confs.sort_values(\"date\",ascending=False).to_json(orient=\"records\",date_format='iso')\n",
    "parsed = json.loads(result)\n",
    "json.dump(parsed,open(\"_data/sorted_confs.json\",'w'), indent=4)  "
   ]
  },
  {
   "cell_type": "markdown",
   "metadata": {},
   "source": [
    "## Creating the bibfile from inspire"
   ]
  },
  {
   "cell_type": "code",
   "execution_count": 1,
   "metadata": {},
   "outputs": [
    {
     "name": "stdout",
     "output_type": "stream",
     "text": [
      "@article{CMS:2024gxp,\n",
      "    author = \"Hayrapetyan, Aram and others\",\n",
      "    collaboration = \"CMS\",\n",
      "    title = \"{Search for new physics with emerging jets in proton-proton collisions at $\\sqrt{s}$ = 13 TeV}\",\n",
      "    eprint = \"2403.01556\",\n",
      "    archivePrefix = \"arXiv\",\n",
      "    primaryClass = \"hep-ex\",\n",
      "    reportNumber = \"CMS-EXO-22-015, CERN-EP-2024-049\",\n",
      "    month = \"3\",\n",
      "    year = \"2024\"\n",
      "}\n",
      "\n",
      "@inproceedings{Malik:2022bdz,\n",
      "    author = \"Malik, Sudhir and Karadzhinova-Ferrer, Aneliya and Hogan, Julie and Bray, Rachel and Kamalieddin, Rami and Flood, Kevin and El-Zant, Amr and Fidalgo, Guillermo and Bruhwiler, David and Bellis, Matt\",\n",
      "    title = \"{Facilitating Non-HEP Career Transition}\",\n",
      "    booktitle = \"{Snowmass 2021}\",\n",
      "    eprint = \"2203.11665\",\n",
      "    archivePrefix = \"arXiv\",\n",
      "    primaryClass = \"physics.ed-ph\",\n",
      "    month = \"3\",\n",
      "    year = \"2022\"\n",
      "}\n",
      "\n",
      "@article{Bardeen:2022zwf,\n",
      "    author = \"Bardeen, Marge G. and others\",\n",
      "    title = \"{Particle Physics Outreach to K-12 Schools and Opportunities in Undergraduate Education}\",\n",
      "    eprint = \"2203.10953\",\n",
      "    archivePrefix = \"arXiv\",\n",
      "    primaryClass = \"physics.ed-ph\",\n",
      "    reportNumber = \"FERMILAB-PUB-22-293-DI\",\n",
      "    month = \"3\",\n",
      "    year = \"2022\"\n",
      "}\n",
      "\n",
      "@inproceedings{Malik:2022rgw,\n",
      "    author = \"Malik, Sudhir and others\",\n",
      "    title = \"{Broadening the scope of Education, Career and Open Science in HEP}\",\n",
      "    booktitle = \"{Snowmass 2021}\",\n",
      "    eprint = \"2203.08809\",\n",
      "    archivePrefix = \"arXiv\",\n",
      "    primaryClass = \"physics.ed-ph\",\n",
      "    reportNumber = \"FERMILAB-CONF-22-198-ND\",\n",
      "    month = \"3\",\n",
      "    year = \"2022\"\n",
      "}\n",
      "\n"
     ]
    }
   ],
   "source": [
    "import requests\n",
    "url = 'https://inspirehep.net/api/literature?sort=mostrecent&size=25&page=1&q=a Guillermo.Fidalgo.1&format=bibtex'\n",
    "inspire = requests.get(url).text\n",
    "# response = requests.get('https://inspirehep.net/api/literature?sort=mostrecent&size=25&page=1&q=Guillermo%20Fidalgo')\n",
    "# url = response.json()['links']['bibtex']\n",
    "# print(url)\n",
    "# pprint.pprint(json_out['links'])\n",
    "# inspire = requests.get(url).text\n",
    "print(inspire)"
   ]
  },
  {
   "cell_type": "code",
   "execution_count": 3,
   "metadata": {},
   "outputs": [
    {
     "name": "stdout",
     "output_type": "stream",
     "text": [
      "@misc{alexander_moreno_briceno_2022_7115834,\n",
      "  author       = {Alexander Moreno Briceño and Aman Goel and Guillermo Antonio Fidalgo Rodriguez},\n",
      "  title        = {Teaching Python the Sustainable Way: Lessons Learned at HSF Training},\n",
      "  month        = sep,\n",
      "  year         = 2022,\n",
      "  publisher    = {Zenodo},\n",
      "  doi          = {10.5281/zenodo.7115834},\n",
      "  url          = {https://doi.org/10.5281/zenodo.7115834}\n",
      "}\n",
      "\n"
     ]
    }
   ],
   "source": [
    "zenodo = r\"\"\"\n",
    "@misc{alexander_moreno_briceno_2022_7115834,\n",
    "  author       = {Alexander Moreno Briceño and Aman Goel and Guillermo Antonio Fidalgo Rodriguez},\n",
    "  title        = {Teaching Python the Sustainable Way: Lessons Learned at HSF Training},\n",
    "  month        = sep,\n",
    "  year         = 2022,\n",
    "  publisher    = {Zenodo},\n",
    "  doi          = {10.5281/zenodo.7115834},\n",
    "  url          = {https://doi.org/10.5281/zenodo.7115834}\n",
    "}\n",
    "\"\"\"\n",
    "print(zenodo)"
   ]
  },
  {
   "cell_type": "markdown",
   "metadata": {},
   "source": [
    "Making it into a script"
   ]
  },
  {
   "cell_type": "code",
   "execution_count": 109,
   "metadata": {},
   "outputs": [],
   "source": [
    "with open(\"bibfile.bib\",'w') as f:\n",
    "    f.write(inspire)\n",
    "    f.write(zenodo)"
   ]
  },
  {
   "cell_type": "code",
   "execution_count": 160,
   "metadata": {},
   "outputs": [
    {
     "name": "stdout",
     "output_type": "stream",
     "text": [
      "Writing createbib.py\n"
     ]
    }
   ],
   "source": [
    "%%writefile createbib.py \n",
    "import requests\n",
    "response = requests.get('https://inspirehep.net/api/literature?sort=mostrecent&size=25&page=1&q=Guillermo%20Fidalgo')\n",
    "url = response.json()['links']['bibtex']\n",
    "inspire = requests.get(url).text\n",
    "\n",
    "zenodo = r\"\"\"\n",
    "@misc{alexander_moreno_briceno_2022_7115834,\n",
    "  author       = {Alexander Moreno Briceño and Aman Goel and Guillermo Antonio Fidalgo Rodriguez},\n",
    "  title        = {Teaching Python the Sustainable Way: Lessons Learned at HSF Training},\n",
    "  month        = sep,\n",
    "  year         = 2022,\n",
    "  publisher    = {Zenodo},\n",
    "  doi          = {10.5281/zenodo.7115834},\n",
    "  url          = {https://doi.org/10.5281/zenodo.7115834}\n",
    "}\n",
    "\"\"\"\n",
    "with open(\"_data/bibfile.bib\",'w') as f:\n",
    "    f.write(inspire)\n",
    "    f.write(zenodo)"
   ]
  },
  {
   "cell_type": "code",
   "execution_count": 162,
   "metadata": {},
   "outputs": [],
   "source": [
    "! python createbib.py"
   ]
  },
  {
   "cell_type": "markdown",
   "metadata": {},
   "source": [
    "## Making tests with Pandoc"
   ]
  },
  {
   "cell_type": "markdown",
   "metadata": {},
   "source": [
    "Just run\n",
    "```shell\n",
    "pandoc -C _data/Publications.bib -t markdown_strict \\\n",
    "--csl american-physics-society.csl \\\n",
    "-o _includes/myPubs.md\n",
    "```"
   ]
  },
  {
   "cell_type": "code",
   "execution_count": 2,
   "metadata": {},
   "outputs": [
    {
     "name": "stdout",
     "output_type": "stream",
     "text": [
      "pandoc: _data/Publications.bib: openBinaryFile: does not exist (No such file or directory)\n"
     ]
    }
   ],
   "source": [
    "! pandoc -C bibfile.bib -t markdown_strict \\\n",
    "--csl american-physics-society.csl \\\n",
    "-o _includes/myPubs.md"
   ]
  },
  {
   "cell_type": "code",
   "execution_count": 1,
   "metadata": {},
   "outputs": [
    {
     "name": "stdout",
     "output_type": "stream",
     "text": [
      "[WARNING] Could not convert TeX math \\sqrt{s}, rendering as TeX\n",
      "[WARNING] Could not convert TeX math \\sqrt{s}, rendering as TeX\n"
     ]
    }
   ],
   "source": [
    "! pandoc -C bibfile.bib -t markdown_strict \\\n",
    "--csl american-physics-society.csl \\\n",
    "-o deleteME.md"
   ]
  },
  {
   "cell_type": "code",
   "execution_count": null,
   "metadata": {},
   "outputs": [
    {
     "name": "stdout",
     "output_type": "stream",
     "text": [
      "pandoc [OPTIONS] [FILES]\n",
      "  -f FORMAT, -r FORMAT  --from=FORMAT, --read=FORMAT                    \n",
      "  -t FORMAT, -w FORMAT  --to=FORMAT, --write=FORMAT                     \n",
      "  -o FILE               --output=FILE                                   \n",
      "                        --data-dir=DIRECTORY                            \n",
      "  -M KEY[:VALUE]        --metadata=KEY[:VALUE]                          \n",
      "                        --metadata-file=FILE                            \n",
      "  -d FILE               --defaults=FILE                                 \n",
      "                        --file-scope                                    \n",
      "                        --sandbox                                       \n",
      "  -s                    --standalone                                    \n",
      "                        --template=FILE                                 \n",
      "  -V KEY[:VALUE]        --variable=KEY[:VALUE]                          \n",
      "                        --wrap=auto|none|preserve                       \n",
      "                        --ascii                                         \n",
      "                        --toc, --table-of-contents                      \n",
      "                        --toc-depth=NUMBER                              \n",
      "  -N                    --number-sections                               \n",
      "                        --number-offset=NUMBERS                         \n",
      "                        --top-level-division=section|chapter|part       \n",
      "                        --extract-media=PATH                            \n",
      "                        --resource-path=SEARCHPATH                      \n",
      "  -H FILE               --include-in-header=FILE                        \n",
      "  -B FILE               --include-before-body=FILE                      \n",
      "  -A FILE               --include-after-body=FILE                       \n",
      "                        --no-highlight                                  \n",
      "                        --highlight-style=STYLE|FILE                    \n",
      "                        --syntax-definition=FILE                        \n",
      "                        --dpi=NUMBER                                    \n",
      "                        --eol=crlf|lf|native                            \n",
      "                        --columns=NUMBER                                \n",
      "  -p                    --preserve-tabs                                 \n",
      "                        --tab-stop=NUMBER                               \n",
      "                        --pdf-engine=PROGRAM                            \n",
      "                        --pdf-engine-opt=STRING                         \n",
      "                        --reference-doc=FILE                            \n",
      "                        --self-contained                                \n",
      "                        --embed-resources                               \n",
      "                        --request-header=NAME:VALUE                     \n",
      "                        --no-check-certificate                          \n",
      "                        --abbreviations=FILE                            \n",
      "                        --indented-code-classes=STRING                  \n",
      "                        --default-image-extension=extension             \n",
      "  -F PROGRAM            --filter=PROGRAM                                \n",
      "  -L SCRIPTPATH         --lua-filter=SCRIPTPATH                         \n",
      "                        --shift-heading-level-by=NUMBER                 \n",
      "                        --base-header-level=NUMBER                      \n",
      "                        --strip-empty-paragraphs                        \n",
      "                        --track-changes=accept|reject|all               \n",
      "                        --strip-comments                                \n",
      "                        --reference-links                               \n",
      "                        --reference-location=block|section|document     \n",
      "                        --atx-headers                                   \n",
      "                        --markdown-headings=setext|atx                  \n",
      "                        --listings                                      \n",
      "  -i                    --incremental                                   \n",
      "                        --slide-level=NUMBER                            \n",
      "                        --section-divs                                  \n",
      "                        --html-q-tags                                   \n",
      "                        --email-obfuscation=none|javascript|references  \n",
      "                        --id-prefix=STRING                              \n",
      "  -T STRING             --title-prefix=STRING                           \n",
      "  -c URL                --css=URL                                       \n",
      "                        --epub-subdirectory=DIRNAME                     \n",
      "                        --epub-cover-image=FILE                         \n",
      "                        --epub-metadata=FILE                            \n",
      "                        --epub-embed-font=FILE                          \n",
      "                        --epub-chapter-level=NUMBER                     \n",
      "                        --ipynb-output=all|none|best                    \n",
      "  -C                    --citeproc                                      \n",
      "                        --bibliography=FILE                             \n",
      "                        --csl=FILE                                      \n",
      "                        --citation-abbreviations=FILE                   \n",
      "                        --natbib                                        \n",
      "                        --biblatex                                      \n",
      "                        --mathml                                        \n",
      "                        --webtex[=URL]                                  \n",
      "                        --mathjax[=URL]                                 \n",
      "                        --katex[=URL]                                   \n",
      "                        --gladtex                                       \n",
      "                        --trace                                         \n",
      "                        --dump-args                                     \n",
      "                        --ignore-args                                   \n",
      "                        --verbose                                       \n",
      "                        --quiet                                         \n",
      "                        --fail-if-warnings                              \n",
      "                        --log=FILE                                      \n",
      "                        --bash-completion                               \n",
      "                        --list-input-formats                            \n",
      "                        --list-output-formats                           \n",
      "                        --list-extensions[=FORMAT]                      \n",
      "                        --list-highlight-languages                      \n",
      "                        --list-highlight-styles                         \n",
      "  -D FORMAT             --print-default-template=FORMAT                 \n",
      "                        --print-default-data-file=FILE                  \n",
      "                        --print-highlight-style=STYLE|FILE              \n",
      "  -v                    --version                                       \n",
      "  -h                    --help                                          \n"
     ]
    }
   ],
   "source": [
    "!pandoc --help"
   ]
  }
 ],
 "metadata": {
  "kernelspec": {
   "display_name": "base",
   "language": "python",
   "name": "python3"
  },
  "language_info": {
   "codemirror_mode": {
    "name": "ipython",
    "version": 3
   },
   "file_extension": ".py",
   "mimetype": "text/x-python",
   "name": "python",
   "nbconvert_exporter": "python",
   "pygments_lexer": "ipython3",
   "version": "3.12.2"
  },
  "orig_nbformat": 4
 },
 "nbformat": 4,
 "nbformat_minor": 2
}
