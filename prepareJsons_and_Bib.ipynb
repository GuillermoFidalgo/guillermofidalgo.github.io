{
 "cells": [
  {
   "attachments": {},
   "cell_type": "markdown",
   "metadata": {},
   "source": [
    "# Sorting the conferences and HSF trainings via \"date\" field"
   ]
  },
  {
   "cell_type": "code",
   "execution_count": null,
   "metadata": {},
   "outputs": [],
   "source": [
    "import json\n",
    "import pandas as pd"
   ]
  },
  {
   "attachments": {},
   "cell_type": "markdown",
   "metadata": {},
   "source": [
    "## Sorting with pandas"
   ]
  },
  {
   "cell_type": "code",
   "execution_count": null,
   "metadata": {},
   "outputs": [],
   "source": [
    "confs = pd.read_json(\"_data/Conference.json\")\n",
    "confs.dropna(inplace=True)\n",
    "confs"
   ]
  },
  {
   "cell_type": "code",
   "execution_count": null,
   "metadata": {},
   "outputs": [],
   "source": [
    "confs.sort_values(\"date\", ascending=False)"
   ]
  },
  {
   "cell_type": "code",
   "execution_count": null,
   "metadata": {},
   "outputs": [],
   "source": [
    "result = confs.sort_values(\"date\", ascending=False).to_json(\n",
    "    orient=\"records\", date_format=\"iso\"\n",
    ")\n",
    "parsed = json.loads(result)\n",
    "parsed"
   ]
  },
  {
   "cell_type": "code",
   "execution_count": null,
   "metadata": {},
   "outputs": [],
   "source": [
    "# writing to file called sorted_confs.json\n",
    "json.dump(parsed, open(\"_data/sorted_confs.json\", \"w\"), indent=4)"
   ]
  },
  {
   "cell_type": "markdown",
   "metadata": {},
   "source": [
    "## Now for sorting the Trainings"
   ]
  },
  {
   "cell_type": "code",
   "execution_count": null,
   "metadata": {},
   "outputs": [],
   "source": [
    "mentored = pd.read_json(\"_data/mentored.json\")\n",
    "mentored.drop_duplicates(keep=False, inplace=True)\n",
    "mentored.sort_values(\"date\", ascending=False, inplace=True)"
   ]
  },
  {
   "cell_type": "code",
   "execution_count": null,
   "metadata": {},
   "outputs": [],
   "source": [
    "parsed = json.loads(mentored.to_json(orient=\"records\", date_format=\"iso\"))\n",
    "\n",
    "json.dump(parsed, open(\"_data/sorted_mentored.json\", \"w\"), indent=4)\n",
    "\n",
    "# result = mentored.sort_values(\"date\", ascending=False).to_json(\n",
    "#     orient=\"records\", date_format=\"iso\"\n",
    "# )\n",
    "# # parsed = json.loads(result)\n",
    "# # parsed"
   ]
  },
  {
   "cell_type": "code",
   "execution_count": null,
   "metadata": {},
   "outputs": [],
   "source": [
    "# [{\n",
    "#     \"title\": \"HSF/IRIS-HEP Software Basics Training\",\n",
    "#     \"location\": \"Virtual\",\n",
    "#     \"date\": \"September 28-30, 2022\",\n",
    "#     \"url\": \"https://indico.cern.ch/event/1190572/\"\n",
    "#   },\n",
    "#   {\n",
    "#     \"title\": \"DANCE@Snowmass\",\n",
    "#     \"location\": \"University of Washington, Seattle, USA\",\n",
    "#     \"date\": \"July 19-23, 2022\",\n",
    "#     \"url\": \"https://indico.cern.ch/event/1151329/\"\n",
    "#   },\n",
    "#   {\n",
    "#     \"title\": \"Software Carpentry\",\n",
    "#     \"location\": \"Virtual\",\n",
    "#     \"date\": \"July 13-15, 2022\",\n",
    "#     \"url\": \"https://www.raynamharris.com/2022-07-13-upr-online/\"\n",
    "#   },\n",
    "#   {\n",
    "#     \"title\": \"Matplotlib Training\",\n",
    "#     \"location\": \"Virtual\",\n",
    "#     \"date\": \"April 21-22, 2022\",\n",
    "#     \"url\": \"https://indico.cern.ch/event/1058838/\"\n",
    "#   },\n",
    "#   {\n",
    "#     \"title\": \"Software Carpentry\",\n",
    "#     \"location\": \"Virtual\",\n",
    "#     \"date\": \"March 28-30, 2022\",\n",
    "#     \"url\": \"https://indico.cern.ch/event/1112526/\"\n",
    "#   },\n",
    "#   {\n",
    "#     \"title\": \"Data Analysis for Lab Research\" ,\n",
    "#     \"location\": \"UPRM, Puerto Rico\",\n",
    "#     \"date\": \"March 5, 2022\",\n",
    "#     \"url\": \"https://indico.cern.ch/event/1132342/\"\n",
    "#   },\n",
    "#   {\n",
    "#     \"title\": \"Software Carpentry\",\n",
    "#     \"location\": \"Virtual\",\n",
    "#     \"date\": \"Dec 13-15, 2021\",\n",
    "#     \"url\": \"https://indico.cern.ch/event/1097111/\"\n",
    "#   },\n",
    "#   {\n",
    "#     \"title\": \"HSF/IRISH-HEP Analysis Reproducibility\",\n",
    "#     \"location\": \"Virtual\",\n",
    "#     \"date\": \"Mar 24-28, 2025\",\n",
    "#     \"url\": \"https://indico.cern.ch/event/1508102/timetable/\"\n",
    "#   },\n",
    "#   {\n",
    "#     \"title\": \"\",\n",
    "#     \"location\": \"\",\n",
    "#     \"date\": \"\",\n",
    "#     \"url\": \"\"\n",
    "#   },\n",
    "#   {\n",
    "#     \"title\": \"\",\n",
    "#     \"location\": \"\",\n",
    "#     \"date\": \"\",\n",
    "#     \"url\": \"\"\n",
    "#   }\n",
    "# ]\n"
   ]
  },
  {
   "cell_type": "markdown",
   "metadata": {},
   "source": [
    "## Creating the bibfile from inspire"
   ]
  },
  {
   "cell_type": "code",
   "execution_count": null,
   "metadata": {},
   "outputs": [],
   "source": [
    "import requests\n",
    "\n",
    "url = \"https://inspirehep.net/api/literature?sort=mostrecent&size=25&page=1&q=a Guillermo.Fidalgo.1&format=bibtex\"\n",
    "inspire = requests.get(url).text\n",
    "print(inspire)\n",
    "\n",
    "\n",
    "# Not needed\n",
    "\n",
    "# response = requests.get('https://inspirehep.net/api/literature?sort=mostrecent&size=25&page=1&q=Guillermo%20Fidalgo')\n",
    "# url = response.json()['links']['bibtex']\n",
    "# print(url)\n",
    "# pprint.pprint(json_out['links'])\n",
    "# inspire = requests.get(url).text"
   ]
  },
  {
   "cell_type": "markdown",
   "metadata": {},
   "source": [
    "Making it into a script"
   ]
  },
  {
   "cell_type": "code",
   "execution_count": null,
   "metadata": {},
   "outputs": [],
   "source": [
    "%%writefile createbib.py \n",
    "import requests\n",
    "\n",
    "url = \"https://inspirehep.net/api/literature?sort=mostrecent&size=25&page=1&q=a Guillermo.Fidalgo.1&format=bibtex\"\n",
    "inspire = requests.get(url).text\n",
    "\n",
    "zenodo = r\"\"\"\n",
    "@misc{alexander_moreno_briceno_2022_7115834,\n",
    "  author       = {Alexander Moreno Briceño and Aman Goel and Guillermo Antonio Fidalgo Rodriguez},\n",
    "  title        = {Teaching Python the Sustainable Way: Lessons Learned at HSF Training},\n",
    "  month        = sep,\n",
    "  year         = 2022,\n",
    "  publisher    = {Zenodo},\n",
    "  doi          = {10.5281/zenodo.7115834},\n",
    "  url          = {https://doi.org/10.5281/zenodo.7115834}\n",
    "}\n",
    "\"\"\"\n",
    "with open(\"bibfile.bib\",\"w\") as f:\n",
    "    f.write(inspire)\n",
    "    f.write(zenodo)"
   ]
  },
  {
   "cell_type": "code",
   "execution_count": null,
   "metadata": {},
   "outputs": [],
   "source": [
    "! python createbib.py"
   ]
  },
  {
   "cell_type": "markdown",
   "metadata": {},
   "source": [
    "## Making tests with Pandoc"
   ]
  },
  {
   "cell_type": "markdown",
   "metadata": {},
   "source": [
    "Just run\n",
    "```shell\n",
    "pandoc -C _data/Publications.bib -t markdown_strict \\\n",
    "--csl american-physics-society.csl \\\n",
    "-o _includes/myPubs.md\n",
    "```"
   ]
  },
  {
   "cell_type": "code",
   "execution_count": null,
   "metadata": {},
   "outputs": [],
   "source": [
    "! pandoc -C bibfile.bib -t markdown_strict \\\n",
    "--csl american-physics-society.csl \\\n",
    "-o _includes/allPubs.md"
   ]
  },
  {
   "cell_type": "code",
   "execution_count": null,
   "metadata": {},
   "outputs": [],
   "source": [
    "! pandoc -C bibfile.bib -t markdown_strict \\\n",
    "--csl american-physics-society.csl \\\n",
    " -o _includes/deleteME.md"
   ]
  },
  {
   "cell_type": "code",
   "execution_count": null,
   "metadata": {},
   "outputs": [],
   "source": [
    "%%writefile Fixbib.py\n",
    "\n",
    "def fixbib(data):\n",
    "    for id,line in enumerate(data):\n",
    "        if \"$\" in line : \n",
    "            line = line.replace(\"$\",\"$$\").replace(r\"\\_\",\"_\")\n",
    "            print(line)\n",
    "            data[id] = line\n",
    "\n",
    "with open(\"_includes/allPubs.md\") as f:\n",
    "    data = f.readlines()\n",
    "\n",
    "fixbib(data)\n",
    "with open(\"_includes/allPubs.md\",\"w\") as f:\n",
    "    f.writelines(data)"
   ]
  }
 ],
 "metadata": {
  "kernelspec": {
   "display_name": "base",
   "language": "python",
   "name": "python3"
  },
  "language_info": {
   "codemirror_mode": {
    "name": "ipython",
    "version": 3
   },
   "file_extension": ".py",
   "mimetype": "text/x-python",
   "name": "python",
   "nbconvert_exporter": "python",
   "pygments_lexer": "ipython3",
   "version": "3.12.5"
  }
 },
 "nbformat": 4,
 "nbformat_minor": 2
}
