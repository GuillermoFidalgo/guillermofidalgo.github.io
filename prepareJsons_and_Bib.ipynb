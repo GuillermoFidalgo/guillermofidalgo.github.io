{
 "cells": [
  {
   "attachments": {},
   "cell_type": "markdown",
   "metadata": {},
   "source": [
    "# Sorting the conferences via \"date\" field"
   ]
  },
  {
   "cell_type": "code",
   "execution_count": null,
   "metadata": {},
   "outputs": [],
   "source": [
    "import datetime, json\n",
    "import pandas as pd"
   ]
  },
  {
   "attachments": {},
   "cell_type": "markdown",
   "metadata": {},
   "source": [
    "## Sorting with pandas"
   ]
  },
  {
   "cell_type": "code",
   "execution_count": null,
   "metadata": {},
   "outputs": [],
   "source": [
    "confs = pd.read_json(\"_data/Conference.json\")\n",
    "confs.dropna(inplace=True)\n",
    "confs"
   ]
  },
  {
   "cell_type": "code",
   "execution_count": null,
   "metadata": {},
   "outputs": [],
   "source": [
    "import pprint"
   ]
  },
  {
   "cell_type": "code",
   "execution_count": null,
   "metadata": {},
   "outputs": [],
   "source": [
    "pprint.pprint(\n",
    "    confs.to_json(\n",
    "        orient=\"records\",\n",
    "        date_format=\"iso\",\n",
    "    )\n",
    ")"
   ]
  },
  {
   "cell_type": "code",
   "execution_count": null,
   "metadata": {},
   "outputs": [],
   "source": [
    "result = confs.sort_values(\"date\", ascending=False).to_json(\n",
    "    orient=\"records\", date_format=\"iso\"\n",
    ")\n",
    "parsed = json.loads(result)\n",
    "json.dump(parsed, open(\"_data/sorted_confs.json\", \"w\"), indent=4)"
   ]
  },
  {
   "cell_type": "markdown",
   "metadata": {},
   "source": [
    "## Creating the bibfile from inspire"
   ]
  },
  {
   "cell_type": "code",
   "execution_count": null,
   "metadata": {},
   "outputs": [],
   "source": [
    "import requests\n",
    "\n",
    "url = \"https://inspirehep.net/api/literature?sort=mostrecent&size=25&page=1&q=a Guillermo.Fidalgo.1&format=bibtex\"\n",
    "inspire = requests.get(url).text\n",
    "# response = requests.get('https://inspirehep.net/api/literature?sort=mostrecent&size=25&page=1&q=Guillermo%20Fidalgo')\n",
    "# url = response.json()['links']['bibtex']\n",
    "# print(url)\n",
    "# pprint.pprint(json_out['links'])\n",
    "# inspire = requests.get(url).text\n",
    "print(inspire)"
   ]
  },
  {
   "cell_type": "code",
   "execution_count": null,
   "metadata": {},
   "outputs": [],
   "source": [
    "zenodo = r\"\"\"\n",
    "@misc{alexander_moreno_briceno_2022_7115834,\n",
    "  author       = {Alexander Moreno Briceño and Aman Goel and Guillermo Antonio Fidalgo Rodriguez},\n",
    "  title        = {Teaching Python the Sustainable Way: Lessons Learned at HSF Training},\n",
    "  month        = sep,\n",
    "  year         = 2022,\n",
    "  publisher    = {Zenodo},\n",
    "  doi          = {10.5281/zenodo.7115834},\n",
    "  url          = {https://doi.org/10.5281/zenodo.7115834}\n",
    "}\n",
    "\"\"\"\n",
    "print(zenodo)"
   ]
  },
  {
   "cell_type": "markdown",
   "metadata": {},
   "source": [
    "Making it into a script"
   ]
  },
  {
   "cell_type": "code",
   "execution_count": null,
   "metadata": {},
   "outputs": [],
   "source": [
    "with open(\"bibfile.bib\", \"w\") as f:\n",
    "    f.write(inspire)\n",
    "    f.write(zenodo)"
   ]
  },
  {
   "cell_type": "code",
   "execution_count": null,
   "metadata": {},
   "outputs": [],
   "source": [
    "%%writefile createbib.py \n",
    "import requests\n",
    "response = requests.get('https://inspirehep.net/api/literature?sort=mostrecent&size=25&page=1&q=Guillermo%20Fidalgo')\n",
    "url = response.json()['links']['bibtex']\n",
    "inspire = requests.get(url).text\n",
    "\n",
    "zenodo = r\"\"\"\n",
    "@misc{alexander_moreno_briceno_2022_7115834,\n",
    "  author       = {Alexander Moreno Briceño and Aman Goel and Guillermo Antonio Fidalgo Rodriguez},\n",
    "  title        = {Teaching Python the Sustainable Way: Lessons Learned at HSF Training},\n",
    "  month        = sep,\n",
    "  year         = 2022,\n",
    "  publisher    = {Zenodo},\n",
    "  doi          = {10.5281/zenodo.7115834},\n",
    "  url          = {https://doi.org/10.5281/zenodo.7115834}\n",
    "}\n",
    "\"\"\"\n",
    "with open(\"_data/bibfile.bib\",'w') as f:\n",
    "    f.write(inspire)\n",
    "    f.write(zenodo)"
   ]
  },
  {
   "cell_type": "code",
   "execution_count": null,
   "metadata": {},
   "outputs": [],
   "source": [
    "! python createbib.py"
   ]
  },
  {
   "cell_type": "markdown",
   "metadata": {},
   "source": [
    "## Making tests with Pandoc"
   ]
  },
  {
   "cell_type": "markdown",
   "metadata": {},
   "source": [
    "Just run\n",
    "```shell\n",
    "pandoc -C _data/Publications.bib -t markdown_strict \\\n",
    "--csl american-physics-society.csl \\\n",
    "-o _includes/myPubs.md\n",
    "```"
   ]
  },
  {
   "cell_type": "code",
   "execution_count": null,
   "metadata": {},
   "outputs": [],
   "source": [
    "! pandoc -C bibfile.bib -t markdown_strict \\\n",
    "--csl american-physics-society.csl \\\n",
    "-o _includes/myPubs.md"
   ]
  },
  {
   "cell_type": "code",
   "execution_count": null,
   "metadata": {},
   "outputs": [],
   "source": [
    "! pandoc -C bibfile.bib -t markdown_strict \\\n",
    "--csl american-physics-society.csl \\\n",
    "-o deleteME.md"
   ]
  },
  {
   "cell_type": "code",
   "execution_count": null,
   "metadata": {},
   "outputs": [],
   "source": [
    "!pandoc --help"
   ]
  }
 ],
 "metadata": {
  "kernelspec": {
   "display_name": "base",
   "language": "python",
   "name": "python3"
  },
  "language_info": {
   "codemirror_mode": {
    "name": "ipython",
    "version": 3
   },
   "file_extension": ".py",
   "mimetype": "text/x-python",
   "name": "python",
   "nbconvert_exporter": "python",
   "pygments_lexer": "ipython3",
   "version": "3.12.2"
  }
 },
 "nbformat": 4,
 "nbformat_minor": 2
}
